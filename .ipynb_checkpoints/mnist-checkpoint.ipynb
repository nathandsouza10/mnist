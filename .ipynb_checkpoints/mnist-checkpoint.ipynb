{
 "cells": [
  {
   "cell_type": "code",
   "execution_count": 1,
   "metadata": {},
   "outputs": [],
   "source": [
    "import tensorflow as tf"
   ]
  },
  {
   "cell_type": "code",
   "execution_count": 67,
   "metadata": {},
   "outputs": [],
   "source": [
    "mnist = tf.keras.datasets.mnist\n",
    "(x_train, y_train),(x_test, y_test) = mnist.load_data()"
   ]
  },
  {
   "cell_type": "code",
   "execution_count": 68,
   "metadata": {},
   "outputs": [],
   "source": [
    "model = tf.keras.models.Sequential()"
   ]
  },
  {
   "cell_type": "code",
   "execution_count": 69,
   "metadata": {},
   "outputs": [],
   "source": [
    "model.add(tf.keras.layers.Flatten())"
   ]
  },
  {
   "cell_type": "code",
   "execution_count": 72,
   "metadata": {},
   "outputs": [],
   "source": [
    "model.add(tf.keras.layers.Dense(784, activation=tf.nn.sigmoid))"
   ]
  },
  {
   "cell_type": "code",
   "execution_count": 73,
   "metadata": {},
   "outputs": [],
   "source": [
    "model.add(tf.keras.layers.Dense(256, activation=tf.nn.sigmoid))"
   ]
  },
  {
   "cell_type": "code",
   "execution_count": 74,
   "metadata": {},
   "outputs": [],
   "source": [
    "model.add(tf.keras.layers.Dense(128, activation=tf.nn.sigmoid))"
   ]
  },
  {
   "cell_type": "code",
   "execution_count": 75,
   "metadata": {},
   "outputs": [],
   "source": [
    "model.add(tf.keras.layers.Dense(10, activation=tf.nn.softmax))"
   ]
  },
  {
   "cell_type": "code",
   "execution_count": 76,
   "metadata": {},
   "outputs": [],
   "source": [
    "model.compile(optimizer='adam',\n",
    "              loss='sparse_categorical_crossentropy',\n",
    "              metrics=['accuracy'])"
   ]
  },
  {
   "cell_type": "code",
   "execution_count": 58,
   "metadata": {},
   "outputs": [
    {
     "name": "stdout",
     "output_type": "stream",
     "text": [
      "Epoch 1/100\n",
      "1875/1875 [==============================] - 6s 3ms/step - loss: 0.4239 - accuracy: 0.8742\n",
      "Epoch 2/100\n",
      "1875/1875 [==============================] - 6s 3ms/step - loss: 0.2758 - accuracy: 0.9132\n",
      "Epoch 3/100\n",
      "1875/1875 [==============================] - 6s 3ms/step - loss: 0.2367 - accuracy: 0.9262\n",
      "Epoch 4/100\n",
      "1875/1875 [==============================] - 6s 3ms/step - loss: 0.2123 - accuracy: 0.9340\n",
      "Epoch 5/100\n",
      "1875/1875 [==============================] - 6s 3ms/step - loss: 0.1972 - accuracy: 0.9378\n",
      "Epoch 6/100\n",
      "1875/1875 [==============================] - 6s 3ms/step - loss: 0.1834 - accuracy: 0.9418\n",
      "Epoch 7/100\n",
      "1875/1875 [==============================] - 6s 3ms/step - loss: 0.1725 - accuracy: 0.9456\n",
      "Epoch 8/100\n",
      "1875/1875 [==============================] - 6s 3ms/step - loss: 0.1638 - accuracy: 0.9487\n",
      "Epoch 9/100\n",
      "1875/1875 [==============================] - 6s 3ms/step - loss: 0.1582 - accuracy: 0.9492\n",
      "Epoch 10/100\n",
      "1875/1875 [==============================] - 6s 3ms/step - loss: 0.1463 - accuracy: 0.9529\n",
      "Epoch 11/100\n",
      "1875/1875 [==============================] - 6s 3ms/step - loss: 0.1403 - accuracy: 0.9553\n",
      "Epoch 12/100\n",
      "1875/1875 [==============================] - 6s 3ms/step - loss: 0.1317 - accuracy: 0.9583\n",
      "Epoch 13/100\n",
      "1875/1875 [==============================] - 6s 3ms/step - loss: 0.1311 - accuracy: 0.9577\n",
      "Epoch 14/100\n",
      "1875/1875 [==============================] - 6s 3ms/step - loss: 0.1246 - accuracy: 0.9600\n",
      "Epoch 15/100\n",
      "1875/1875 [==============================] - 6s 3ms/step - loss: 0.1263 - accuracy: 0.9595\n",
      "Epoch 16/100\n",
      "1875/1875 [==============================] - 6s 3ms/step - loss: 0.1184 - accuracy: 0.9619\n",
      "Epoch 17/100\n",
      "1875/1875 [==============================] - 6s 3ms/step - loss: 0.1124 - accuracy: 0.9637\n",
      "Epoch 18/100\n",
      "1875/1875 [==============================] - 6s 3ms/step - loss: 0.1086 - accuracy: 0.9652\n",
      "Epoch 19/100\n",
      "1875/1875 [==============================] - 7s 3ms/step - loss: 0.1074 - accuracy: 0.9651\n",
      "Epoch 20/100\n",
      "1875/1875 [==============================] - 6s 3ms/step - loss: 0.1070 - accuracy: 0.9655\n",
      "Epoch 21/100\n",
      "1875/1875 [==============================] - 6s 3ms/step - loss: 0.1045 - accuracy: 0.9661\n",
      "Epoch 22/100\n",
      "1875/1875 [==============================] - 6s 3ms/step - loss: 0.1019 - accuracy: 0.9672\n",
      "Epoch 23/100\n",
      "1875/1875 [==============================] - 6s 3ms/step - loss: 0.0970 - accuracy: 0.9690\n",
      "Epoch 24/100\n",
      "1875/1875 [==============================] - 6s 3ms/step - loss: 0.0999 - accuracy: 0.9679\n",
      "Epoch 25/100\n",
      "1875/1875 [==============================] - 6s 3ms/step - loss: 0.0985 - accuracy: 0.9687\n",
      "Epoch 26/100\n",
      "1875/1875 [==============================] - 6s 3ms/step - loss: 0.0948 - accuracy: 0.9690\n",
      "Epoch 27/100\n",
      "1875/1875 [==============================] - 6s 3ms/step - loss: 0.0938 - accuracy: 0.9704\n",
      "Epoch 28/100\n",
      "1875/1875 [==============================] - 6s 3ms/step - loss: 0.0920 - accuracy: 0.9699\n",
      "Epoch 29/100\n",
      "1875/1875 [==============================] - 7s 4ms/step - loss: 0.0923 - accuracy: 0.9702\n",
      "Epoch 30/100\n",
      "1875/1875 [==============================] - 6s 3ms/step - loss: 0.0910 - accuracy: 0.9702\n",
      "Epoch 31/100\n",
      "1875/1875 [==============================] - 7s 4ms/step - loss: 0.0898 - accuracy: 0.9707\n",
      "Epoch 32/100\n",
      "1875/1875 [==============================] - 7s 4ms/step - loss: 0.0864 - accuracy: 0.9721\n",
      "Epoch 33/100\n",
      "1875/1875 [==============================] - 6s 3ms/step - loss: 0.0881 - accuracy: 0.9714\n",
      "Epoch 34/100\n",
      "1875/1875 [==============================] - 6s 3ms/step - loss: 0.0844 - accuracy: 0.9726\n",
      "Epoch 35/100\n",
      "1875/1875 [==============================] - 6s 3ms/step - loss: 0.0852 - accuracy: 0.9719\n",
      "Epoch 36/100\n",
      "1875/1875 [==============================] - 6s 3ms/step - loss: 0.0845 - accuracy: 0.9729\n",
      "Epoch 37/100\n",
      "1875/1875 [==============================] - 6s 3ms/step - loss: 0.0834 - accuracy: 0.9727\n",
      "Epoch 38/100\n",
      "1875/1875 [==============================] - 7s 4ms/step - loss: 0.0843 - accuracy: 0.9723\n",
      "Epoch 39/100\n",
      "1875/1875 [==============================] - 7s 4ms/step - loss: 0.0815 - accuracy: 0.9736\n",
      "Epoch 40/100\n",
      "1875/1875 [==============================] - 7s 4ms/step - loss: 0.0807 - accuracy: 0.9737\n",
      "Epoch 41/100\n",
      "1875/1875 [==============================] - 7s 4ms/step - loss: 0.0826 - accuracy: 0.9726\n",
      "Epoch 42/100\n",
      "1875/1875 [==============================] - 7s 3ms/step - loss: 0.0794 - accuracy: 0.9749\n",
      "Epoch 43/100\n",
      "1875/1875 [==============================] - 8s 4ms/step - loss: 0.0756 - accuracy: 0.9758\n",
      "Epoch 44/100\n",
      "1875/1875 [==============================] - 8s 4ms/step - loss: 0.0745 - accuracy: 0.9764\n",
      "Epoch 45/100\n",
      "1875/1875 [==============================] - 8s 4ms/step - loss: 0.0763 - accuracy: 0.9756\n",
      "Epoch 46/100\n",
      "1875/1875 [==============================] - 7s 4ms/step - loss: 0.0796 - accuracy: 0.9736\n",
      "Epoch 47/100\n",
      "1875/1875 [==============================] - 7s 4ms/step - loss: 0.0789 - accuracy: 0.9747\n",
      "Epoch 48/100\n",
      "1875/1875 [==============================] - 7s 4ms/step - loss: 0.0770 - accuracy: 0.9750\n",
      "Epoch 49/100\n",
      "1875/1875 [==============================] - 7s 3ms/step - loss: 0.0726 - accuracy: 0.9761\n",
      "Epoch 50/100\n",
      "1875/1875 [==============================] - 7s 4ms/step - loss: 0.0719 - accuracy: 0.9767\n",
      "Epoch 51/100\n",
      "1875/1875 [==============================] - 7s 3ms/step - loss: 0.0712 - accuracy: 0.9766\n",
      "Epoch 52/100\n",
      "1875/1875 [==============================] - 7s 4ms/step - loss: 0.0709 - accuracy: 0.9766\n",
      "Epoch 53/100\n",
      "1875/1875 [==============================] - 7s 4ms/step - loss: 0.0677 - accuracy: 0.9777\n",
      "Epoch 54/100\n",
      "1875/1875 [==============================] - 7s 4ms/step - loss: 0.0695 - accuracy: 0.9769\n",
      "Epoch 55/100\n",
      "1875/1875 [==============================] - 7s 4ms/step - loss: 0.0689 - accuracy: 0.9772\n",
      "Epoch 56/100\n",
      "1875/1875 [==============================] - 7s 4ms/step - loss: 0.0699 - accuracy: 0.9775\n",
      "Epoch 57/100\n",
      "1875/1875 [==============================] - 7s 4ms/step - loss: 0.0686 - accuracy: 0.9774\n",
      "Epoch 58/100\n",
      "1875/1875 [==============================] - 7s 4ms/step - loss: 0.0652 - accuracy: 0.9787\n",
      "Epoch 59/100\n",
      "1875/1875 [==============================] - 7s 4ms/step - loss: 0.0693 - accuracy: 0.9781\n",
      "Epoch 60/100\n",
      "1875/1875 [==============================] - 7s 4ms/step - loss: 0.0649 - accuracy: 0.9790\n",
      "Epoch 61/100\n",
      "1875/1875 [==============================] - 7s 4ms/step - loss: 0.0660 - accuracy: 0.9785\n",
      "Epoch 62/100\n",
      "1875/1875 [==============================] - 7s 4ms/step - loss: 0.0712 - accuracy: 0.9765\n",
      "Epoch 63/100\n",
      "1875/1875 [==============================] - 7s 4ms/step - loss: 0.0677 - accuracy: 0.9774\n",
      "Epoch 64/100\n",
      "1875/1875 [==============================] - 7s 4ms/step - loss: 0.0701 - accuracy: 0.9771\n",
      "Epoch 65/100\n",
      "1875/1875 [==============================] - 7s 4ms/step - loss: 0.0693 - accuracy: 0.9774\n",
      "Epoch 66/100\n",
      "1875/1875 [==============================] - 7s 4ms/step - loss: 0.0696 - accuracy: 0.9766\n",
      "Epoch 67/100\n",
      "1875/1875 [==============================] - 7s 4ms/step - loss: 0.0703 - accuracy: 0.9765\n",
      "Epoch 68/100\n",
      "1875/1875 [==============================] - 7s 3ms/step - loss: 0.0662 - accuracy: 0.9777\n",
      "Epoch 69/100\n",
      "1875/1875 [==============================] - 7s 4ms/step - loss: 0.0633 - accuracy: 0.9783\n",
      "Epoch 70/100\n",
      "1875/1875 [==============================] - 7s 4ms/step - loss: 0.0612 - accuracy: 0.9795\n",
      "Epoch 71/100\n",
      "1875/1875 [==============================] - 7s 4ms/step - loss: 0.0615 - accuracy: 0.9800\n",
      "Epoch 72/100\n",
      "1875/1875 [==============================] - 7s 4ms/step - loss: 0.0608 - accuracy: 0.9799\n",
      "Epoch 73/100\n",
      "1875/1875 [==============================] - 7s 4ms/step - loss: 0.0606 - accuracy: 0.9794\n",
      "Epoch 74/100\n",
      "1875/1875 [==============================] - 7s 4ms/step - loss: 0.0600 - accuracy: 0.9797\n",
      "Epoch 75/100\n",
      "1875/1875 [==============================] - 6s 3ms/step - loss: 0.0615 - accuracy: 0.9796\n",
      "Epoch 76/100\n",
      "1875/1875 [==============================] - 7s 4ms/step - loss: 0.0606 - accuracy: 0.9797\n",
      "Epoch 77/100\n",
      "1875/1875 [==============================] - 7s 3ms/step - loss: 0.0595 - accuracy: 0.9796\n",
      "Epoch 78/100\n",
      "1875/1875 [==============================] - 7s 4ms/step - loss: 0.0596 - accuracy: 0.9802\n",
      "Epoch 79/100\n"
     ]
    },
    {
     "name": "stdout",
     "output_type": "stream",
     "text": [
      "1875/1875 [==============================] - 7s 3ms/step - loss: 0.0605 - accuracy: 0.9803\n",
      "Epoch 80/100\n",
      "1875/1875 [==============================] - 7s 4ms/step - loss: 0.0620 - accuracy: 0.9796\n",
      "Epoch 81/100\n",
      "1875/1875 [==============================] - 7s 4ms/step - loss: 0.0610 - accuracy: 0.9797\n",
      "Epoch 82/100\n",
      "1875/1875 [==============================] - 7s 4ms/step - loss: 0.0613 - accuracy: 0.9793\n",
      "Epoch 83/100\n",
      "1875/1875 [==============================] - 7s 4ms/step - loss: 0.0592 - accuracy: 0.9800\n",
      "Epoch 84/100\n",
      "1875/1875 [==============================] - 7s 4ms/step - loss: 0.0603 - accuracy: 0.9803\n",
      "Epoch 85/100\n",
      "1875/1875 [==============================] - 7s 4ms/step - loss: 0.0562 - accuracy: 0.9812\n",
      "Epoch 86/100\n",
      "1875/1875 [==============================] - 7s 4ms/step - loss: 0.0591 - accuracy: 0.9807\n",
      "Epoch 87/100\n",
      "1875/1875 [==============================] - 7s 3ms/step - loss: 0.0591 - accuracy: 0.9812\n",
      "Epoch 88/100\n",
      "1875/1875 [==============================] - 7s 4ms/step - loss: 0.0610 - accuracy: 0.9801\n",
      "Epoch 89/100\n",
      "1875/1875 [==============================] - 6s 3ms/step - loss: 0.0584 - accuracy: 0.9805\n",
      "Epoch 90/100\n",
      "1875/1875 [==============================] - 7s 4ms/step - loss: 0.0580 - accuracy: 0.9809\n",
      "Epoch 91/100\n",
      "1875/1875 [==============================] - 7s 4ms/step - loss: 0.0584 - accuracy: 0.9805\n",
      "Epoch 92/100\n",
      "1875/1875 [==============================] - 6s 3ms/step - loss: 0.0602 - accuracy: 0.9797\n",
      "Epoch 93/100\n",
      "1875/1875 [==============================] - 7s 4ms/step - loss: 0.0583 - accuracy: 0.9801\n",
      "Epoch 94/100\n",
      "1875/1875 [==============================] - 6s 3ms/step - loss: 0.0577 - accuracy: 0.9805\n",
      "Epoch 95/100\n",
      "1875/1875 [==============================] - 7s 4ms/step - loss: 0.0565 - accuracy: 0.9812\n",
      "Epoch 96/100\n",
      "1875/1875 [==============================] - 7s 4ms/step - loss: 0.0562 - accuracy: 0.9810\n",
      "Epoch 97/100\n",
      "1875/1875 [==============================] - 7s 4ms/step - loss: 0.0564 - accuracy: 0.9817\n",
      "Epoch 98/100\n",
      "1875/1875 [==============================] - 7s 4ms/step - loss: 0.0555 - accuracy: 0.9813\n",
      "Epoch 99/100\n",
      "1875/1875 [==============================] - 7s 3ms/step - loss: 0.0558 - accuracy: 0.9813\n",
      "Epoch 100/100\n",
      "1875/1875 [==============================] - 7s 4ms/step - loss: 0.0560 - accuracy: 0.9812\n"
     ]
    },
    {
     "data": {
      "text/plain": [
       "<keras.callbacks.History at 0x1ba68bb2370>"
      ]
     },
     "execution_count": 58,
     "metadata": {},
     "output_type": "execute_result"
    }
   ],
   "source": [
    "model.fit(x_train, y_train, epochs=1000)"
   ]
  },
  {
   "cell_type": "code",
   "execution_count": 59,
   "metadata": {},
   "outputs": [
    {
     "name": "stdout",
     "output_type": "stream",
     "text": [
      "313/313 [==============================] - 1s 2ms/step - loss: 0.1100 - accuracy: 0.9690\n"
     ]
    }
   ],
   "source": [
    "val_loss, val_acc = model.evaluate(x_test, y_test)"
   ]
  },
  {
   "cell_type": "code",
   "execution_count": 60,
   "metadata": {},
   "outputs": [
    {
     "name": "stdout",
     "output_type": "stream",
     "text": [
      "313/313 [==============================] - 1s 2ms/step\n"
     ]
    }
   ],
   "source": [
    "predictions = model.predict(x_test)"
   ]
  },
  {
   "cell_type": "code",
   "execution_count": 61,
   "metadata": {},
   "outputs": [
    {
     "data": {
      "text/plain": [
       "(0.1100478395819664, 0.968999981880188)"
      ]
     },
     "execution_count": 61,
     "metadata": {},
     "output_type": "execute_result"
    }
   ],
   "source": [
    "val_loss, val_acc"
   ]
  },
  {
   "cell_type": "code",
   "execution_count": 66,
   "metadata": {},
   "outputs": [
    {
     "data": {
      "text/plain": [
       "<AxesSubplot:xlabel='Predicted', ylabel='Actual'>"
      ]
     },
     "execution_count": 66,
     "metadata": {},
     "output_type": "execute_result"
    },
    {
     "data": {
      "image/png": "[encoded data removed]",
      "text/plain": [
       "<Figure size 720x504 with 2 Axes>"
      ]
     },
     "metadata": {
      "needs_background": "light"
     },
     "output_type": "display_data"
    }
   ],
   "source": [
    "from sklearn.metrics import confusion_matrix\n",
    "import pandas as pd\n",
    "import seaborn as sn\n",
    "import matplotlib.pyplot as plt\n",
    "%matplotlib inline\n",
    "import numpy as np\n",
    "\n",
    "\n",
    "y_hat = np.argmax(predictions, axis=1)\n",
    "data = confusion_matrix(y_test, y_hat)\n",
    "\n",
    "df_cm = pd.DataFrame(data, columns=np.unique(y_test), index = np.unique(y_test))\n",
    "df_cm.index.name = 'Actual'\n",
    "df_cm.columns.name = 'Predicted'\n",
    "plt.figure(figsize = (10,7))\n",
    "sn.set(font_scale=1.4)#for label size\n",
    "sn.heatmap(df_cm, cmap=\"Blues\", annot=True,annot_kws={\"size\": 16})# font size"
   ]
  }
 ],
 "metadata": {
  "kernelspec": {
   "display_name": "Python 3 (ipykernel)",
   "language": "python",
   "name": "python3"
  },
  "language_info": {
   "codemirror_mode": {
    "name": "ipython",
    "version": 3
   },
   "file_extension": ".py",
   "mimetype": "text/x-python",
   "name": "python",
   "nbconvert_exporter": "python",
   "pygments_lexer": "ipython3",
   "version": "3.9.12"
  }
 },
 "nbformat": 4,
 "nbformat_minor": 4
}
