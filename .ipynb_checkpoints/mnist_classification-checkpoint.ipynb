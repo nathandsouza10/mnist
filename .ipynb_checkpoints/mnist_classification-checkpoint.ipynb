{
 "cells": [
  {
   "cell_type": "code",
   "execution_count": 15,
   "metadata": {
    "_cell_guid": "b1076dfc-b9ad-4769-8c92-a6c4dae69d19",
    "_uuid": "8f2839f25d086af736a60e9eeb907d3b93b6e0e5",
    "execution": {
     "iopub.execute_input": "2023-04-02T12:36:09.086935Z",
     "iopub.status.busy": "2023-04-02T12:36:09.086657Z",
     "iopub.status.idle": "2023-04-02T12:36:13.426192Z",
     "shell.execute_reply": "2023-04-02T12:36:13.422868Z",
     "shell.execute_reply.started": "2023-04-02T12:36:09.086901Z"
    }
   },
   "outputs": [],
   "source": [
    "import torch\n",
    "import random\n",
    "from torch.utils.data import Dataset, DataLoader\n",
    "import torch.nn as nn\n",
    "import torch.nn.functional as F\n",
    "import torch.optim as optim\n",
    "from torch.nn import Module\n",
    "from torchvision import datasets, transforms\n",
    "from torch.autograd import Variable\n",
    "import os\n",
    "from pathlib import Path\n",
    "import torchvision\n",
    "import PIL\n",
    "import matplotlib.pyplot as plt\n",
    "from PIL import Image\n",
    "from pathlib import Path\n",
    "from sklearn.preprocessing import MinMaxScaler\n",
    "import torchvision.transforms.functional as TF\n",
    "from torchvision.utils import make_grid"
   ]
  },
  {
   "cell_type": "code",
   "execution_count": 16,
   "metadata": {
    "execution": {
     "iopub.execute_input": "2023-04-02T12:36:13.431759Z",
     "iopub.status.busy": "2023-04-02T12:36:13.431198Z",
     "iopub.status.idle": "2023-04-02T12:36:13.507366Z",
     "shell.execute_reply": "2023-04-02T12:36:13.506177Z",
     "shell.execute_reply.started": "2023-04-02T12:36:13.431722Z"
    }
   },
   "outputs": [
    {
     "name": "stdout",
     "output_type": "stream",
     "text": [
      "Using device: cuda\n"
     ]
    }
   ],
   "source": [
    "# setting device on GPU if available, else CPU\n",
    "device = torch.device('cuda' if torch.cuda.is_available() else 'cpu')\n",
    "print('Using device:', device)"
   ]
  },
  {
   "cell_type": "code",
   "execution_count": 17,
   "metadata": {},
   "outputs": [],
   "source": [
    "# Define data transformations\n",
    "transform = transforms.Compose(\n",
    "    [transforms.ToTensor(),\n",
    "     transforms.Normalize((0.5,), (0.5,))])\n",
    "\n",
    "# Download and load the training set\n",
    "trainset = torchvision.datasets.MNIST(root='./data', train=True,\n",
    "                                        download=True, transform=transform)\n",
    "\n",
    "trainloader = torch.utils.data.DataLoader(trainset, batch_size=32,\n",
    "                                          shuffle=True, num_workers=2)\n",
    "\n",
    "# Download and load the test set\n",
    "testset = torchvision.datasets.MNIST(root='./data', train=False,\n",
    "                                       download=True, transform=transform)\n",
    "\n",
    "testloader = torch.utils.data.DataLoader(testset, batch_size=32,\n",
    "                                         shuffle=False, num_workers=2)"
   ]
  },
  {
   "cell_type": "code",
   "execution_count": 18,
   "metadata": {
    "execution": {
     "iopub.execute_input": "2023-04-02T12:36:22.594113Z",
     "iopub.status.busy": "2023-04-02T12:36:22.593625Z",
     "iopub.status.idle": "2023-04-02T12:36:22.601994Z",
     "shell.execute_reply": "2023-04-02T12:36:22.600701Z",
     "shell.execute_reply.started": "2023-04-02T12:36:22.594073Z"
    }
   },
   "outputs": [],
   "source": [
    "class Net(Module):\n",
    "    def __init__(self):\n",
    "        super(Net, self).__init__()\n",
    "        \n",
    "        self.linear = torch.nn.Sequential(\n",
    "            nn.Linear(784, 400),\n",
    "            nn.ReLU(),\n",
    "            nn.Linear(400, 200),\n",
    "            nn.ReLU(),\n",
    "            nn.Linear(200, 100),\n",
    "            nn.ReLU(),\n",
    "            nn.Linear(100, 50),\n",
    "            nn.ReLU(),\n",
    "            nn.Linear(50, 10)\n",
    "        )\n",
    "\n",
    "    def forward(self,x):\n",
    "        z = torch.flatten(x, start_dim=1)\n",
    "        z = self.linear(z)\n",
    "        return z"
   ]
  },
  {
   "cell_type": "code",
   "execution_count": 19,
   "metadata": {
    "execution": {
     "iopub.execute_input": "2023-04-02T12:36:22.605455Z",
     "iopub.status.busy": "2023-04-02T12:36:22.604619Z",
     "iopub.status.idle": "2023-04-02T12:36:22.632660Z",
     "shell.execute_reply": "2023-04-02T12:36:22.631726Z",
     "shell.execute_reply.started": "2023-04-02T12:36:22.605357Z"
    }
   },
   "outputs": [],
   "source": [
    "model = Net()\n",
    "model = model.to(device)"
   ]
  },
  {
   "cell_type": "code",
   "execution_count": 20,
   "metadata": {
    "execution": {
     "iopub.execute_input": "2023-04-02T12:45:02.016397Z",
     "iopub.status.busy": "2023-04-02T12:45:02.015398Z",
     "iopub.status.idle": "2023-04-02T12:45:02.022436Z",
     "shell.execute_reply": "2023-04-02T12:45:02.020901Z",
     "shell.execute_reply.started": "2023-04-02T12:45:02.016357Z"
    }
   },
   "outputs": [],
   "source": [
    "optimizer = torch.optim.SGD(model.parameters(), lr = 1e-2, momentum=0.95)\n",
    "criterion = nn.CrossEntropyLoss()"
   ]
  },
  {
   "cell_type": "code",
   "execution_count": null,
   "metadata": {
    "execution": {
     "iopub.execute_input": "2023-04-02T12:45:02.400239Z",
     "iopub.status.busy": "2023-04-02T12:45:02.399869Z",
     "iopub.status.idle": "2023-04-02T12:48:57.849468Z",
     "shell.execute_reply": "2023-04-02T12:48:57.848443Z",
     "shell.execute_reply.started": "2023-04-02T12:45:02.400204Z"
    }
   },
   "outputs": [],
   "source": [
    "epochs = 100\n",
    "losses = []\n",
    "for epoch in range(epochs):\n",
    "    cumulative_loss = 0\n",
    "    for data in trainloader:\n",
    "        image, label = data\n",
    "        image = image.to(device)\n",
    "        label = label.to(device)\n",
    "        output = model(image)\n",
    "        loss = criterion(output, label)\n",
    "        optimizer.zero_grad()\n",
    "        loss.backward()\n",
    "        optimizer.step()\n",
    "        cumulative_loss += loss.item()\n",
    "    losses.append(cumulative_loss / len(trainloader))\n",
    "    \n",
    "plt.plot([i for i in range(0, epochs)], losses)\n",
    "plt.xlabel(\"epochs\")\n",
    "plt.ylabel(\"Cross Entropy Loss\")\n",
    "plt.show()"
   ]
  },
  {
   "cell_type": "code",
   "execution_count": null,
   "metadata": {
    "execution": {
     "iopub.execute_input": "2023-04-02T12:48:57.852017Z",
     "iopub.status.busy": "2023-04-02T12:48:57.851376Z",
     "iopub.status.idle": "2023-04-02T12:48:57.858825Z",
     "shell.execute_reply": "2023-04-02T12:48:57.857802Z",
     "shell.execute_reply.started": "2023-04-02T12:48:57.851978Z"
    }
   },
   "outputs": [],
   "source": [
    "print(f\"last training loss: {loss.item()}\")"
   ]
  },
  {
   "cell_type": "code",
   "execution_count": null,
   "metadata": {
    "execution": {
     "iopub.execute_input": "2023-04-02T12:54:04.777346Z",
     "iopub.status.busy": "2023-04-02T12:54:04.776639Z",
     "iopub.status.idle": "2023-04-02T12:54:04.833233Z",
     "shell.execute_reply": "2023-04-02T12:54:04.831994Z",
     "shell.execute_reply.started": "2023-04-02T12:54:04.777307Z"
    }
   },
   "outputs": [],
   "source": [
    "model.eval()\n",
    "correct = 0\n",
    "total = 0\n",
    "\n",
    "for image, label in testloader:\n",
    "    # Forward pass\n",
    "    image = image.to(device)\n",
    "    label = label.to(device)\n",
    "    with torch.no_grad():\n",
    "        outputs = model(image)\n",
    "        \n",
    "    \n",
    "    _, predicted = torch.max(outputs.data, 1)\n",
    "    \n",
    "    total += label.size(0)\n",
    "    correct += (predicted == label).sum().item()\n",
    "\n",
    "accuracy = 100 * correct / total\n",
    "print(f\"Test Accuracy: {accuracy}%\")"
   ]
  },
  {
   "cell_type": "code",
   "execution_count": null,
   "metadata": {},
   "outputs": [],
   "source": []
  }
 ],
 "metadata": {
  "kernelspec": {
   "display_name": "Python 3 (ipykernel)",
   "language": "python",
   "name": "python3"
  },
  "language_info": {
   "codemirror_mode": {
    "name": "ipython",
    "version": 3
   },
   "file_extension": ".py",
   "mimetype": "text/x-python",
   "name": "python",
   "nbconvert_exporter": "python",
   "pygments_lexer": "ipython3",
   "version": "3.9.13"
  }
 },
 "nbformat": 4,
 "nbformat_minor": 4
}
